{
  "cells": [
    {
      "cell_type": "code",
      "execution_count": null,
      "metadata": {
        "id": "0f8lM1A_PvVv"
      },
      "outputs": [],
      "source": [
        "import pandas as pd"
      ]
    },
    {
      "cell_type": "code",
      "execution_count": null,
      "metadata": {
        "colab": {
          "base_uri": "https://localhost:8080/"
        },
        "id": "brKyVVhYQGee",
        "outputId": "22cffb56-fde1-45c4-e287-e8aad093ee6c"
      },
      "outputs": [
        {
          "name": "stdout",
          "output_type": "stream",
          "text": [
            "  id_prod  price  categ\n",
            "0  0_1421  19.99      0\n",
            "1  0_1368   5.13      0\n",
            "2   0_731  17.99      0\n",
            "3   1_587   4.99      1\n",
            "4  0_1507   3.99      0 \n",
            "\n",
            "<class 'pandas.core.frame.DataFrame'>\n",
            "RangeIndex: 3287 entries, 0 to 3286\n",
            "Data columns (total 3 columns):\n",
            " #   Column   Non-Null Count  Dtype  \n",
            "---  ------   --------------  -----  \n",
            " 0   id_prod  3287 non-null   object \n",
            " 1   price    3287 non-null   float64\n",
            " 2   categ    3287 non-null   int64  \n",
            "dtypes: float64(1), int64(1), object(1)\n",
            "memory usage: 77.2+ KB\n",
            "None \n",
            "\n",
            "             price        categ\n",
            "count  3287.000000  3287.000000\n",
            "mean     21.856641     0.370246\n",
            "std      29.847908     0.615387\n",
            "min      -1.000000     0.000000\n",
            "25%       6.990000     0.000000\n",
            "50%      13.060000     0.000000\n",
            "75%      22.990000     1.000000\n",
            "max     300.000000     2.000000 \n",
            "\n",
            "(3287, 3) \n",
            "\n",
            "(3287, 3) \n",
            "\n",
            "0\n",
            "Statistiques descriptives du fichier Produit :\n",
            "              price        categ\n",
            "count  3287.000000  3287.000000\n",
            "mean     21.856641     0.370246\n",
            "std      29.847908     0.615387\n",
            "min      -1.000000     0.000000\n",
            "25%       6.990000     0.000000\n",
            "50%      13.060000     0.000000\n",
            "75%      22.990000     1.000000\n",
            "max     300.000000     2.000000\n",
            "Répartition des catégories de produits :\n",
            " categ\n",
            "0    2309\n",
            "1     739\n",
            "2     239\n",
            "Name: count, dtype: int64\n"
          ]
        }
      ],
      "source": [
        "# Exploration du fichier products\n",
        "df_products=pd.read_csv('/content/products.csv')\n",
        "\n",
        "print(df_products.head(),'\\n')\n",
        "\n",
        "print(df_products.info(),'\\n')\n",
        "\n",
        "print(df_products.describe(),'\\n')\n",
        "\n",
        "print(df_products.shape,'\\n')\n",
        "\n",
        "# Supprimer les NA\n",
        "\n",
        "df_products = df_products.dropna()\n",
        "print(df_products.shape,'\\n') #Pas de valeurs manquantes\n",
        "\n",
        "# Checker les doublons\n",
        "\n",
        "doublons = df_products.duplicated(subset=['id_prod'])\n",
        "print(doublons.sum()) #Pas de doublons\n",
        "\n",
        "# Analyse descriptive des variables\n",
        "\n",
        "print(\"Statistiques descriptives du fichier Produit :\\n\", df_products.describe())\n",
        "print(\"Répartition des catégories de produits :\\n\", df_products['categ'].value_counts())"
      ]
    },
    {
      "cell_type": "code",
      "execution_count": null,
      "metadata": {
        "colab": {
          "base_uri": "https://localhost:8080/"
        },
        "id": "3cHUd0TaTe8t",
        "outputId": "ba642847-f9df-44f0-dbc9-234f056472d9"
      },
      "outputs": [
        {
          "name": "stdout",
          "output_type": "stream",
          "text": [
            "  client_id sex  birth\n",
            "0    c_4410   f   1967\n",
            "1    c_7839   f   1975\n",
            "2    c_1699   f   1984\n",
            "3    c_5961   f   1962\n",
            "4    c_5320   m   1943 \n",
            "\n",
            "<class 'pandas.core.frame.DataFrame'>\n",
            "RangeIndex: 8623 entries, 0 to 8622\n",
            "Data columns (total 3 columns):\n",
            " #   Column     Non-Null Count  Dtype \n",
            "---  ------     --------------  ----- \n",
            " 0   client_id  8623 non-null   object\n",
            " 1   sex        8623 non-null   object\n",
            " 2   birth      8623 non-null   int64 \n",
            "dtypes: int64(1), object(2)\n",
            "memory usage: 202.2+ KB\n",
            "None \n",
            "\n",
            "             birth\n",
            "count  8623.000000\n",
            "mean   1978.280877\n",
            "std      16.919535\n",
            "min    1929.000000\n",
            "25%    1966.000000\n",
            "50%    1979.000000\n",
            "75%    1992.000000\n",
            "max    2004.000000 \n",
            "\n",
            "(8623, 3) \n",
            "\n",
            "(8623, 3) \n",
            "\n",
            "0\n",
            "Répartition des âges des clients :\n",
            " birth\n",
            "2004    440\n",
            "1979    215\n",
            "1988    207\n",
            "1986    203\n",
            "1978    199\n",
            "       ... \n",
            "1933      8\n",
            "1932      6\n",
            "1931      4\n",
            "1930      4\n",
            "1929      3\n",
            "Name: count, Length: 76, dtype: int64\n",
            "Répartition des sexes des clients :\n",
            " sex\n",
            "f    4491\n",
            "m    4132\n",
            "Name: count, dtype: int64\n"
          ]
        }
      ],
      "source": [
        "# Exploration du fichier customers\n",
        "df_customers=pd.read_csv('/content/customers.csv')\n",
        "\n",
        "print(df_customers.head(),'\\n')\n",
        "\n",
        "print(df_customers.info(),'\\n')\n",
        "\n",
        "print(df_customers.describe(),'\\n')\n",
        "\n",
        "print(df_customers.shape,'\\n')\n",
        "\n",
        "# Supprimer les NA\n",
        "\n",
        "df_customers = df_customers.dropna()\n",
        "print(df_customers.shape,'\\n') #Pas de valeurs manquantes\n",
        "\n",
        "# Checker les doublons\n",
        "\n",
        "doublons = df_customers.duplicated(subset=['client_id'])\n",
        "print(doublons.sum()) #Pas de doublons\n",
        "\n",
        "# Analyse descriptive des variables\n",
        "\n",
        "print(\"Répartition des âges des clients :\\n\", df_customers['birth'].value_counts())\n",
        "print(\"Répartition des sexes des clients :\\n\", df_customers['sex'].value_counts())"
      ]
    },
    {
      "cell_type": "code",
      "execution_count": null,
      "metadata": {
        "colab": {
          "base_uri": "https://localhost:8080/"
        },
        "id": "bxmRYo_oUVdM",
        "outputId": "686e575c-a92a-4cc8-a98b-032910e55e05"
      },
      "outputs": [
        {
          "name": "stdout",
          "output_type": "stream",
          "text": [
            "  id_prod                        date session_id client_id\n",
            "0  0_1518  2022-05-20 13:21:29.043970   s_211425     c_103\n",
            "1   1_251  2022-02-02 07:55:19.149409   s_158752    c_8534\n",
            "2  0_1277  2022-06-18 15:44:33.155329   s_225667    c_6714\n",
            "3   2_209  2021-06-24 04:19:29.835891    s_52962    c_6941\n",
            "4  0_1509  2023-01-11 08:22:08.194479   s_325227    c_4232 \n",
            "\n",
            "<class 'pandas.core.frame.DataFrame'>\n",
            "RangeIndex: 679532 entries, 0 to 679531\n",
            "Data columns (total 4 columns):\n",
            " #   Column      Non-Null Count   Dtype \n",
            "---  ------      --------------   ----- \n",
            " 0   id_prod     679532 non-null  object\n",
            " 1   date        679532 non-null  object\n",
            " 2   session_id  679532 non-null  object\n",
            " 3   client_id   679532 non-null  object\n",
            "dtypes: object(4)\n",
            "memory usage: 20.7+ MB\n",
            "None \n",
            "\n",
            "       id_prod                             date session_id client_id\n",
            "count   679532                           679532     679532    679532\n",
            "unique    3267                           679371     342316      8602\n",
            "top      1_369  test_2021-03-01 02:30:02.237413        s_0    c_1609\n",
            "freq      2252                               13        200     25488 \n",
            "\n",
            "(679532, 4) \n",
            "\n",
            "(679532, 4) \n",
            "\n",
            "126\n",
            "       id_prod                             date session_id client_id\n",
            "27778      T_0  test_2021-03-01 02:30:02.237437        s_0      ct_1\n",
            "52424      T_0  test_2021-03-01 02:30:02.237419        s_0      ct_0\n",
            "96687      T_0  test_2021-03-01 02:30:02.237412        s_0      ct_1\n",
            "130188     T_0  test_2021-03-01 02:30:02.237419        s_0      ct_0\n",
            "139339     T_0  test_2021-03-01 02:30:02.237443        s_0      ct_1\n",
            "...        ...                              ...        ...       ...\n",
            "653098     T_0  test_2021-03-01 02:30:02.237432        s_0      ct_0\n",
            "657830     T_0  test_2021-03-01 02:30:02.237417        s_0      ct_0\n",
            "662081     T_0  test_2021-03-01 02:30:02.237427        s_0      ct_1\n",
            "671647     T_0  test_2021-03-01 02:30:02.237424        s_0      ct_1\n",
            "679180     T_0  test_2021-03-01 02:30:02.237425        s_0      ct_1\n",
            "\n",
            "[126 rows x 4 columns]\n",
            "Fréquence des transactions par date :\n",
            " date\n",
            "test_2021-03-01 02:30:02.237413    13\n",
            "test_2021-03-01 02:30:02.237428     8\n",
            "test_2021-03-01 02:30:02.237414     8\n",
            "test_2021-03-01 02:30:02.237443     8\n",
            "test_2021-03-01 02:30:02.237444     8\n",
            "                                   ..\n",
            "2021-03-12 02:39:19.652938          1\n",
            "2022-07-14 13:51:26.533057          1\n",
            "2021-05-09 01:09:02.838161          1\n",
            "2021-09-30 09:55:27.316636          1\n",
            "2022-09-28 01:12:01.973763          1\n",
            "Name: count, Length: 679371, dtype: int64\n"
          ]
        }
      ],
      "source": [
        "# Exploration du fichier transactions\n",
        "df_transactions=pd.read_csv('/content/transactions.csv')\n",
        "\n",
        "print(df_transactions.head(),'\\n')\n",
        "\n",
        "print(df_transactions.info(),'\\n')\n",
        "\n",
        "print(df_transactions.describe(),'\\n')\n",
        "\n",
        "print(df_transactions.shape,'\\n')\n",
        "\n",
        "# Supprimer les NA\n",
        "\n",
        "df_transactions = df_transactions.dropna()\n",
        "print(df_transactions.shape,'\\n') #Pas de valeurs manquantes\n",
        "\n",
        "# Checker les doublons\n",
        "\n",
        "doublons = df_transactions.duplicated()\n",
        "print(doublons.sum()) #Deux doublons\n",
        "print(df_transactions[df_transactions.duplicated()])\n",
        "\n",
        "# Analyse descriptive des variables\n",
        "\n",
        "print(\"Fréquence des transactions par date :\\n\", df_transactions['date'].value_counts())"
      ]
    },
    {
      "cell_type": "markdown",
      "metadata": {
        "id": "v_elc2c4VpOT"
      },
      "source": [
        "Liste des incohérences:\n",
        "\n",
        "\n",
        "*   Présence d'un prix négatif dans le fichier produit\n",
        "*   Présence de lignes test dans le fichier transaction\n",
        "*   Présence de valeurs manquantes dans le fichier transaction\n",
        "*   Présence de doublons dans le fichier transaction\n",
        "\n",
        "\n"
      ]
    },
    {
      "cell_type": "code",
      "execution_count": null,
      "metadata": {
        "colab": {
          "base_uri": "https://localhost:8080/"
        },
        "id": "8f0_YQ_rfiQB",
        "outputId": "ca56df83-c2be-45f2-d075-9ee8024e8783"
      },
      "outputs": [
        {
          "name": "stdout",
          "output_type": "stream",
          "text": [
            "  id_prod                        date session_id client_id  price  categ\n",
            "0  0_1518  2022-05-20 13:21:29.043970   s_211425     c_103   4.18    0.0\n",
            "1   1_251  2022-02-02 07:55:19.149409   s_158752    c_8534  15.99    1.0\n",
            "2  0_1277  2022-06-18 15:44:33.155329   s_225667    c_6714   7.99    0.0\n",
            "3   2_209  2021-06-24 04:19:29.835891    s_52962    c_6941  69.99    2.0\n",
            "4  0_1509  2023-01-11 08:22:08.194479   s_325227    c_4232   4.99    0.0\n",
            "  id_prod                        date session_id client_id sex  birth\n",
            "0  0_1518  2022-05-20 13:21:29.043970   s_211425     c_103   f   1986\n",
            "1   1_251  2022-02-02 07:55:19.149409   s_158752    c_8534   m   1988\n",
            "2  0_1277  2022-06-18 15:44:33.155329   s_225667    c_6714   f   1968\n",
            "3   2_209  2021-06-24 04:19:29.835891    s_52962    c_6941   m   2000\n",
            "4  0_1509  2023-01-11 08:22:08.194479   s_325227    c_4232   m   1980\n",
            "  id_prod                        date session_id client_id\n",
            "0  0_1518  2022-05-20 13:21:29.043970   s_211425     c_103\n",
            "1   1_251  2022-02-02 07:55:19.149409   s_158752    c_8534\n",
            "2  0_1277  2022-06-18 15:44:33.155329   s_225667    c_6714\n",
            "3   2_209  2021-06-24 04:19:29.835891    s_52962    c_6941\n",
            "4  0_1509  2023-01-11 08:22:08.194479   s_325227    c_4232\n",
            "  id_prod        date session_id client_id  price  categ sex  birth\n",
            "0  0_1518  2022-05-20   s_211425     c_103   4.18    0.0   f   1986\n",
            "1   1_251  2022-02-02   s_158752    c_8534  15.99    1.0   m   1988\n",
            "2  0_1277  2022-06-18   s_225667    c_6714   7.99    0.0   f   1968\n",
            "3   2_209  2021-06-24    s_52962    c_6941  69.99    2.0   m   2000\n",
            "4  0_1509  2023-01-11   s_325227    c_4232   4.99    0.0   m   1980\n"
          ]
        }
      ],
      "source": [
        "df_trans_prod = pd.merge(df_transactions, df_products[['id_prod', 'price', 'categ']], on='id_prod', how='left')\n",
        "df_trans_client = pd.merge(df_transactions, df_customers[['client_id', 'sex', 'birth']], on='client_id', how='left')\n",
        "\n",
        "# Afficher les premières lignes du DataFrame fusionné pour vérification\n",
        "print(df_trans_prod.head())\n",
        "print(df_trans_client.head())\n",
        "print(df_transactions.head())\n",
        "\n",
        "# Si la fusion est réussie, vous pouvez maintenant accéder à la colonne de catégorie dans df_merged\n",
        "# Par exemple, pour ajouter cette colonne à df_transaction :\n",
        "df_transactions['price'] = df_trans_prod['price']\n",
        "df_transactions['categ'] = df_trans_prod['categ']\n",
        "df_transactions['sex'] = df_trans_client['sex']\n",
        "df_transactions['birth'] = df_trans_client['birth']\n",
        "\n",
        "df_final=df_transactions.copy()\n",
        "df_final['date'] = df_final['date'].str[:10]\n",
        "print(df_final.head())"
      ]
    },
    {
      "cell_type": "code",
      "execution_count": null,
      "metadata": {
        "colab": {
          "base_uri": "https://localhost:8080/"
        },
        "id": "XcLzjBg3eMKD",
        "outputId": "c83f452a-91ec-4e45-9c54-8aba7a778984"
      },
      "outputs": [
        {
          "name": "stdout",
          "output_type": "stream",
          "text": [
            "Chiffre d'affaires total : 11853528.679999994\n",
            "Nombre total de transactions : 679532\n",
            "Top 10 des produits les plus vendus :\n",
            " id_prod\n",
            "1_369    2252\n",
            "1_417    2189\n",
            "1_414    2180\n",
            "1_498    2128\n",
            "1_425    2096\n",
            "1_403    1960\n",
            "1_412    1951\n",
            "1_413    1945\n",
            "1_406    1939\n",
            "1_407    1935\n",
            "Name: count, dtype: int64\n",
            "Top 10 des produits les moins vendus :\n",
            " id_prod\n",
            "2_23      1\n",
            "0_549     1\n",
            "0_1151    1\n",
            "0_1284    1\n",
            "0_2201    1\n",
            "0_1539    1\n",
            "0_1728    1\n",
            "2_81      1\n",
            "2_98      1\n",
            "0_833     1\n",
            "Name: count, dtype: int64\n",
            "Analyse de Pareto pour les produits :\n",
            " id_prod\n",
            "2_159     0.008006\n",
            "2_135     0.013855\n",
            "2_112     0.019373\n",
            "2_102     0.024497\n",
            "2_209     0.029303\n",
            "            ...   \n",
            "0_1653    1.000017\n",
            "0_1284    1.000017\n",
            "0_1539    1.000017\n",
            "0_2245    1.000017\n",
            "T_0       1.000000\n",
            "Name: price, Length: 3267, dtype: float64\n",
            "Répartition du chiffre d'affaires par catégorie :\n",
            " categ\n",
            "0    27078.29\n",
            "1    18867.72\n",
            "2    25896.77\n",
            "Name: price, dtype: float64\n"
          ]
        }
      ],
      "source": [
        "# Calcul des indicateurs de ventes\n",
        "chiffre_affaires_total = df_transactions['price'].sum()\n",
        "nombre_total_transactions = len(df_transactions)\n",
        "\n",
        "# Tops/Flops des produits\n",
        "top_produits = df_transactions['id_prod'].value_counts().head(10)\n",
        "flops_produits = df_transactions['id_prod'].value_counts().tail(10)\n",
        "\n",
        "# Analyse de Pareto\n",
        "total_ventes_produits = df_transactions.groupby('id_prod')['price'].sum().sort_values(ascending=False)\n",
        "pareto_produits = total_ventes_produits.cumsum() / total_ventes_produits.sum()\n",
        "\n",
        "# Répartition par catégorie\n",
        "repartition_categorie = df_products.groupby('categ')['price'].sum()\n",
        "\n",
        "# Affichage des résultats\n",
        "print(\"Chiffre d'affaires total :\", chiffre_affaires_total)\n",
        "print(\"Nombre total de transactions :\", nombre_total_transactions)\n",
        "# Afficher d'autres indicateurs calculés...\n",
        "\n",
        "print(\"Top 10 des produits les plus vendus :\\n\", top_produits)\n",
        "print(\"Top 10 des produits les moins vendus :\\n\", flops_produits)\n",
        "\n",
        "print(\"Analyse de Pareto pour les produits :\\n\", pareto_produits)\n",
        "\n",
        "print(\"Répartition du chiffre d'affaires par catégorie :\\n\", repartition_categorie)"
      ]
    },
    {
      "cell_type": "code",
      "execution_count": null,
      "metadata": {
        "colab": {
          "base_uri": "https://localhost:8080/"
        },
        "id": "dVPSqAIhphOB",
        "outputId": "bc8ffd4c-49fe-425d-a417-e07d8cfcef24"
      },
      "outputs": [
        {
          "name": "stdout",
          "output_type": "stream",
          "text": [
            "categ  sex\n",
            "0.0    f      206209\n",
            "       m      209450\n",
            "1.0    f      114899\n",
            "       m      112270\n",
            "2.0    f       17283\n",
            "       m       19200\n",
            "dtype: int64\n"
          ]
        }
      ],
      "source": [
        "# Le lien entre le genre du client et les catégories de livres achetés\n",
        "\n",
        "transactions_genre_categorie = df_final.groupby(['categ', 'sex']).size()\n",
        "\n",
        "print(transactions_genre_categorie)\n"
      ]
    },
    {
      "cell_type": "code",
      "execution_count": null,
      "metadata": {
        "colab": {
          "base_uri": "https://localhost:8080/"
        },
        "id": "6DJ63Uh_p-ZG",
        "outputId": "b0b7b97a-78bb-4164-f59b-7950b7260b79"
      },
      "outputs": [
        {
          "name": "stdout",
          "output_type": "stream",
          "text": [
            "sex\n",
            "f    5859577.13\n",
            "m    5993951.55\n",
            "Name: price, dtype: float64\n"
          ]
        }
      ],
      "source": [
        "# Le lien entre le genre d’un client et le montant total des achats\n",
        "\n",
        "montant_total_par_genre = df_final.groupby('sex')['price'].sum()\n",
        "\n",
        "print(montant_total_par_genre)\n"
      ]
    },
    {
      "cell_type": "code",
      "execution_count": null,
      "metadata": {
        "colab": {
          "base_uri": "https://localhost:8080/"
        },
        "id": "ib2-gwIQqLye",
        "outputId": "43abdf8b-9bc2-4ebb-9194-2581a334e63d"
      },
      "outputs": [
        {
          "name": "stdout",
          "output_type": "stream",
          "text": [
            "birth\n",
            "1929      201\n",
            "1930      226\n",
            "1931      170\n",
            "1932      311\n",
            "1933      327\n",
            "        ...  \n",
            "2000     4415\n",
            "2001     4452\n",
            "2002     4587\n",
            "2003     4371\n",
            "2004    15149\n",
            "Length: 76, dtype: int64\n"
          ]
        }
      ],
      "source": [
        " # Le lien entre l’âge des clients et la fréquence d'achat\n",
        "\n",
        "freq_achat_par_age = df_final.groupby('birth').size()\n",
        "\n",
        "print(freq_achat_par_age)\n"
      ]
    },
    {
      "cell_type": "code",
      "execution_count": null,
      "metadata": {
        "colab": {
          "base_uri": "https://localhost:8080/"
        },
        "id": "NaeKWcsVqY2s",
        "outputId": "4e105c06-861b-452f-f774-d30b3fb53ad8"
      },
      "outputs": [
        {
          "name": "stdout",
          "output_type": "stream",
          "text": [
            "8941.21052631579\n"
          ]
        }
      ],
      "source": [
        "# Le lien entre l’âge des clients et la taille du panier moyen\n",
        "taille_panier_moyen_par_age = df_final.groupby('birth')['session_id'].count().mean()\n",
        "\n",
        "print(taille_panier_moyen_par_age)"
      ]
    },
    {
      "cell_type": "code",
      "execution_count": null,
      "metadata": {
        "colab": {
          "base_uri": "https://localhost:8080/"
        },
        "id": "Xfu8pVPnqdZp",
        "outputId": "764c1ae1-197d-41f9-beba-02d1cfce40b0"
      },
      "outputs": [
        {
          "name": "stdout",
          "output_type": "stream",
          "text": [
            "birth  categ\n",
            "1929   0.0        78\n",
            "       1.0       122\n",
            "       2.0         1\n",
            "1930   0.0        75\n",
            "       1.0       149\n",
            "                ... \n",
            "2003   1.0      1678\n",
            "       2.0      1784\n",
            "2004   0.0      3418\n",
            "       1.0      5719\n",
            "       2.0      6012\n",
            "Length: 228, dtype: int64\n"
          ]
        }
      ],
      "source": [
        "# Le lien entre l’âge des clients et la catégorie des livres achetés\n",
        "\n",
        "transactions_age_categorie = df_final.groupby(['birth', 'categ']).size()\n",
        "\n",
        "print(transactions_age_categorie)"
      ]
    }
  ],
  "metadata": {
    "colab": {
      "provenance": []
    },
    "kernelspec": {
      "display_name": "Python 3",
      "name": "python3"
    },
    "language_info": {
      "name": "python"
    }
  },
  "nbformat": 4,
  "nbformat_minor": 0
}